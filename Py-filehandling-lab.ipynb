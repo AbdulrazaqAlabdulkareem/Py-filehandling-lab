{
 "cells": [
  {
   "cell_type": "code",
   "execution_count": 14,
   "metadata": {},
   "outputs": [
    {
     "name": "stdout",
     "output_type": "stream",
     "text": [
      "Working hard for something we don't care about is called stress, Working hard for something we love is called passion\n"
     ]
    }
   ],
   "source": [
    "file =open('string.txt', 'r')\n",
    "content = file.read()\n",
    "print(content)\n",
    "file.close()"
   ]
  },
  {
   "cell_type": "code",
   "execution_count": 15,
   "metadata": {},
   "outputs": [
    {
     "name": "stdout",
     "output_type": "stream",
     "text": [
      "[\"Working hard for something we don't care about is called stress\", ' Working hard for something we love is called passion']\n",
      "Working hard for something we don't care about is called stress\n",
      " Working hard for something we love is called passion\n"
     ]
    }
   ],
   "source": [
    "substrings = content.split(',')\n",
    "\n",
    "print(substrings)\n",
    "print(substrings[0])\n",
    "print(substrings[1])"
   ]
  },
  {
   "cell_type": "code",
   "execution_count": 16,
   "metadata": {},
   "outputs": [
    {
     "data": {
      "text/plain": [
       "<function TextIOWrapper.close()>"
      ]
     },
     "execution_count": 16,
     "metadata": {},
     "output_type": "execute_result"
    }
   ],
   "source": [
    "part1= open('part_1.txt', 'w')\n",
    "part1.write(substrings[0])\n",
    "part1.close\n",
    "##\n",
    "part2= open('part_1.txt', 'w')\n",
    "part2.write(substrings[1])\n",
    "part2.close\n",
    "    "
   ]
  }
 ],
 "metadata": {
  "interpreter": {
   "hash": "aee8b7b246df8f9039afb4144a1f6fd8d2ca17a180786b69acc140d282b71a49"
  },
  "kernelspec": {
   "display_name": "Python 3.10.11 64-bit",
   "language": "python",
   "name": "python3"
  },
  "language_info": {
   "codemirror_mode": {
    "name": "ipython",
    "version": 3
   },
   "file_extension": ".py",
   "mimetype": "text/x-python",
   "name": "python",
   "nbconvert_exporter": "python",
   "pygments_lexer": "ipython3",
   "version": "3.10.11"
  },
  "orig_nbformat": 4
 },
 "nbformat": 4,
 "nbformat_minor": 2
}
